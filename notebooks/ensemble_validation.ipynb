{
  "nbformat": 4,
  "nbformat_minor": 0,
  "metadata": {
    "colab": {
      "name": "ensemble_validation.ipynb",
      "provenance": [],
      "collapsed_sections": [],
      "toc_visible": true
    },
    "kernelspec": {
      "name": "python3",
      "display_name": "Python 3"
    },
    "language_info": {
      "name": "python"
    },
    "accelerator": "GPU",
    "gpuClass": "standard"
  },
  "cells": [
    {
      "cell_type": "markdown",
      "source": [
        "# 各種インポート"
      ],
      "metadata": {
        "id": "8ZH2u-uQTaql"
      }
    },
    {
      "cell_type": "code",
      "source": [
        "from google.colab import drive\n",
        "drive.mount('/content/drive')"
      ],
      "metadata": {
        "id": "HT7ZjEqtYU8L",
        "colab": {
          "base_uri": "https://localhost:8080/"
        },
        "outputId": "3015a400-b12d-4bc4-a978-d1b7d37b7426"
      },
      "execution_count": null,
      "outputs": [
        {
          "output_type": "stream",
          "name": "stdout",
          "text": [
            "Mounted at /content/drive\n"
          ]
        }
      ]
    },
    {
      "cell_type": "code",
      "source": [
        "!pip install -q timm\n",
        "!pip install -q torchmetrics"
      ],
      "metadata": {
        "id": "d5xhgv0fbHXQ",
        "colab": {
          "base_uri": "https://localhost:8080/"
        },
        "outputId": "ab11769c-b3ec-4a1c-aa33-56d664de2c97"
      },
      "execution_count": null,
      "outputs": [
        {
          "output_type": "stream",
          "name": "stdout",
          "text": [
            "\u001b[K     |████████████████████████████████| 509 kB 4.2 MB/s \n",
            "\u001b[K     |████████████████████████████████| 419 kB 4.1 MB/s \n",
            "\u001b[?25h"
          ]
        }
      ]
    },
    {
      "cell_type": "code",
      "execution_count": null,
      "metadata": {
        "id": "OGoKdv6-aRvg"
      },
      "outputs": [],
      "source": [
        "import os\n",
        "import random\n",
        "import numpy as np\n",
        "import pandas as pd\n",
        "import matplotlib.pyplot as plt\n",
        "import seaborn as sns\n",
        "import torch\n",
        "import glob\n",
        "from torch.utils.data import TensorDataset, DataLoader\n",
        "from torch.utils.data.dataset import Dataset\n",
        "from torch.utils.tensorboard import SummaryWriter\n",
        "from torch import nn, optim\n",
        "from torch.optim import lr_scheduler\n",
        "from torchvision import transforms as T\n",
        "import timm\n",
        "from torchmetrics import F1Score\n",
        "from sklearn.model_selection import StratifiedKFold\n",
        "from tqdm.auto import tqdm\n",
        "from sklearn.metrics import confusion_matrix, classification_report"
      ]
    },
    {
      "cell_type": "code",
      "source": [
        "def seed_everything(seed=2022):\n",
        "    random.seed(seed)\n",
        "    os.environ['PYTHONHASHSEED'] = str(seed)\n",
        "    np.random.seed(seed)\n",
        "    torch.manual_seed(seed)\n",
        "    torch.cuda.manual_seed(seed)\n",
        "    torch.backends.cudnn.deterministic = True\n",
        "seed_everything()"
      ],
      "metadata": {
        "id": "zsOtHXMSfIl4"
      },
      "execution_count": null,
      "outputs": []
    },
    {
      "cell_type": "markdown",
      "source": [
        "# データの読み込み"
      ],
      "metadata": {
        "id": "VY_fn2dUTfA_"
      }
    },
    {
      "cell_type": "code",
      "source": [
        "images = np.load('/content/drive/MyDrive/Competition/ProbSpace/日本画/data/train_data.npz')\n",
        "print(images.files)"
      ],
      "metadata": {
        "colab": {
          "base_uri": "https://localhost:8080/"
        },
        "id": "daaEQL8mRy1k",
        "outputId": "4eb4ffe5-ba1c-4796-ae88-efe0e5cb9f58"
      },
      "execution_count": null,
      "outputs": [
        {
          "output_type": "stream",
          "name": "stdout",
          "text": [
            "['arr_0', 'arr_1']\n"
          ]
        }
      ]
    },
    {
      "cell_type": "code",
      "source": [
        "print(images['arr_0'].shape)\n",
        "print(images['arr_1'].shape)"
      ],
      "metadata": {
        "colab": {
          "base_uri": "https://localhost:8080/"
        },
        "id": "th7n8CnWR4is",
        "outputId": "341cd3d9-4e6f-4932-e616-15a633e353ec"
      },
      "execution_count": null,
      "outputs": [
        {
          "output_type": "stream",
          "name": "stdout",
          "text": [
            "(6446, 256, 256, 3)\n",
            "(6446,)\n"
          ]
        }
      ]
    },
    {
      "cell_type": "code",
      "source": [
        "train_images = images['arr_0']\n",
        "train_labels = images['arr_1']"
      ],
      "metadata": {
        "id": "8-GyM-KyR-Hk"
      },
      "execution_count": null,
      "outputs": []
    },
    {
      "cell_type": "code",
      "source": [
        "train_images = train_images.transpose((0,3,1,2))"
      ],
      "metadata": {
        "id": "NcSuPF16XboZ"
      },
      "execution_count": null,
      "outputs": []
    },
    {
      "cell_type": "code",
      "source": [
        "# 貴族、武士、化け物、平民\n",
        "classes = {0: 'noble', 1: 'warrior', 2: 'incarnetion', 3: 'commoner'}"
      ],
      "metadata": {
        "id": "OEJywChxR_1F"
      },
      "execution_count": null,
      "outputs": []
    },
    {
      "cell_type": "code",
      "source": [
        "plt.figure()\n",
        "plt.hist(train_labels)\n",
        "plt.show()"
      ],
      "metadata": {
        "colab": {
          "base_uri": "https://localhost:8080/",
          "height": 265
        },
        "id": "MUMeftCUSAf9",
        "outputId": "7b387462-7fb9-4ea1-ff25-f580c087c477"
      },
      "execution_count": null,
      "outputs": [
        {
          "output_type": "display_data",
          "data": {
            "text/plain": [
              "<Figure size 432x288 with 1 Axes>"
            ],
            "image/png": "[encoded data removed]"
          },
          "metadata": {
            "needs_background": "light"
          }
        }
      ]
    },
    {
      "cell_type": "code",
      "source": [
        "# test data\n",
        "#test_images = np.load('/content/drive/MyDrive/Competition/ProbSpace/日本画/data/test_data.npz')['arr_0']\n",
        "#test_images = test_images.transpose((0,3,1,2))\n",
        "#test_dataset = torch.utils.data.TensorDataset(torch.from_numpy(test_images).float())\n",
        "#test_loader = torch.utils.data.DataLoader(test_dataset, batch_size=64, num_workers=2, pin_memory=True)"
      ],
      "metadata": {
        "id": "RUmAhvfCaW40"
      },
      "execution_count": null,
      "outputs": []
    },
    {
      "cell_type": "code",
      "source": [
        "class My_Dataset(Dataset):\n",
        "\n",
        "  def __init__(self, images, labels, transform=None):\n",
        "    super().__init__()\n",
        "    self.images = images\n",
        "    self.labels = labels\n",
        "    self.transform = transform\n",
        "\n",
        "  def __getitem__(self, idx):\n",
        "    image = self.images[idx]\n",
        "    label = self.labels[idx]\n",
        "\n",
        "    if self.transform:\n",
        "      image = self.transform(image)\n",
        "\n",
        "    return image, label\n",
        "\n",
        "  def __len__(self):\n",
        "    return len(self.labels)\n",
        "\n",
        "\n",
        "def train_transformer(n=1, m=1):\n",
        "  return T.Compose([T.RandAugment(num_ops=n, magnitude=m)])\n",
        "\n",
        "def valid_transformer():\n",
        "  return T.Compose([T.ToTensor()])"
      ],
      "metadata": {
        "id": "OTOKQLavT0mY"
      },
      "execution_count": null,
      "outputs": []
    },
    {
      "cell_type": "code",
      "source": [
        "# データの分割\n",
        "kf = StratifiedKFold(n_splits=5, shuffle=True, random_state=2022)"
      ],
      "metadata": {
        "id": "CmuvAwXaT82G"
      },
      "execution_count": null,
      "outputs": []
    },
    {
      "cell_type": "code",
      "source": [
        "for fold, (train_index, valid_index) in enumerate(kf.split(train_images, train_labels)):\n",
        "    if fold == 3:\n",
        "      pass\n",
        "    else:\n",
        "      continue\n",
        "\n",
        "    valid_dataset = My_Dataset(torch.from_numpy(train_images[valid_index]).float(), torch.from_numpy(train_labels[valid_index].astype(np.int64)))\n",
        "    valid_loader = DataLoader(valid_dataset, batch_size=64, shuffle=False, num_workers=2, pin_memory=True)"
      ],
      "metadata": {
        "id": "L2l6-S5TSWfo"
      },
      "execution_count": null,
      "outputs": []
    },
    {
      "cell_type": "code",
      "source": [
        "valid_dataset.labels"
      ],
      "metadata": {
        "colab": {
          "base_uri": "https://localhost:8080/"
        },
        "id": "2JDNMR0VUuQu",
        "outputId": "36eddb1a-25e1-4c46-9d67-4e0ffb665a37"
      },
      "execution_count": null,
      "outputs": [
        {
          "output_type": "execute_result",
          "data": {
            "text/plain": [
              "tensor([0, 0, 0,  ..., 0, 2, 1])"
            ]
          },
          "metadata": {},
          "execution_count": 13
        }
      ]
    },
    {
      "cell_type": "code",
      "source": [
        "len(valid_dataset.labels)"
      ],
      "metadata": {
        "colab": {
          "base_uri": "https://localhost:8080/"
        },
        "id": "xjguXzy-YDeW",
        "outputId": "de902132-2e4e-44a0-a4ee-ce1916424b6b"
      },
      "execution_count": null,
      "outputs": [
        {
          "output_type": "execute_result",
          "data": {
            "text/plain": [
              "1290"
            ]
          },
          "metadata": {},
          "execution_count": 33
        }
      ]
    },
    {
      "cell_type": "markdown",
      "source": [
        "# 推論"
      ],
      "metadata": {
        "id": "PfkpuTC1TsNR"
      }
    },
    {
      "cell_type": "code",
      "source": [
        "model_name = 'tf_efficientnet_b3_ns'\n",
        "#'tf_efficientnet_b3_ns'\n",
        "#'seresnext50_32x4d', 'efficientnetv2_rw_s'\n",
        "num_classes = 4\n",
        "# 学習済みモデル\n",
        "#weights = glob.glob('/content/drive/MyDrive/Competition/ProbSpace/日本画/checkpoints/Best_update (2)/fold3_*.pth')\n",
        "weights = glob.glob('/content/drive/MyDrive/Competition/ProbSpace/日本画/checkpoints/Best_update/fold3_best_update.pth')\n",
        "device = torch.device(\"cuda:0\" if torch.cuda.is_available() else \"cpu\")"
      ],
      "metadata": {
        "id": "uOVUxOksbGrp"
      },
      "execution_count": null,
      "outputs": []
    },
    {
      "cell_type": "code",
      "source": [
        "def softmax(a):\n",
        "    c = np.max(a) \n",
        "    exp_a = np.exp(a - c) \n",
        "    sum_exp_a = np.sum(exp_a) \n",
        "    y = exp_a / sum_exp_a \n",
        "    return y"
      ],
      "metadata": {
        "id": "OfAF0vq5rHvK"
      },
      "execution_count": null,
      "outputs": []
    },
    {
      "cell_type": "code",
      "source": [
        "all_predicts = np.zeros((len(valid_dataset.labels), 4))\n",
        "#all_predicts = np.zeros((len(test_images), 4))\n",
        "with torch.no_grad():\n",
        "  for w in weights:\n",
        "    model = timm.create_model(model_name, pretrained=False, num_classes=num_classes)\n",
        "    model.load_state_dict(torch.load(w))\n",
        "    mode = model.to(device)\n",
        "    model.eval()\n",
        "    predicts = []\n",
        "    for x in valid_loader:\n",
        "      x = x[0].to(device)\n",
        "      outputs = model(x)\n",
        "      \n",
        "      #x = x[0].to(device)\n",
        "      #outputs = model(x)\n",
        "      #preds = torch.max(outputs, dim=1)[1]\n",
        "      tmp = outputs.cpu().numpy()\n",
        "      #print(outputs.cpu().numpy().shape)\n",
        "      #print(tmp)\n",
        "      \n",
        "      # softmax\n",
        "      for i, l in enumerate(tmp):\n",
        "        #print(l)\n",
        "        #print(i)\n",
        "        #print(tmp[i])\n",
        "        tmp[i] = softmax(tmp[i])\n",
        "        #print(tmp[i])\n",
        "\n",
        "      predicts.append(tmp)\n",
        "\n",
        "    all_predicts += np.concatenate(predicts)"
      ],
      "metadata": {
        "id": "3Cq2VUQsYj9x"
      },
      "execution_count": null,
      "outputs": []
    },
    {
      "cell_type": "code",
      "source": [
        "model_name = 'efficientnetv2_rw_s'\n",
        "#'tf_efficientnet_b3_ns'\n",
        "#'seresnext50_32x4d', 'efficientnetv2_rw_s'\n",
        "\n",
        "# 学習済みモデル\n",
        "weights = glob.glob('/content/drive/MyDrive/Competition/ProbSpace/日本画/checkpoints/effv2_true/fold3_best03.pth')"
      ],
      "metadata": {
        "id": "WMSTrr1wZwTo"
      },
      "execution_count": null,
      "outputs": []
    },
    {
      "cell_type": "code",
      "source": [
        "with torch.no_grad():\n",
        "  for w in weights:\n",
        "    model = timm.create_model(model_name, pretrained=False, num_classes=num_classes)\n",
        "    model.load_state_dict(torch.load(w))\n",
        "    mode = model.to(device)\n",
        "    model.eval()\n",
        "    predicts = []\n",
        "    for x in valid_loader:\n",
        "      x = x[0].to(device)\n",
        "      outputs = model(x)\n",
        "      \n",
        "      #x = x[0].to(device)\n",
        "      #outputs = model(x)\n",
        "      #preds = torch.max(outputs, dim=1)[1]\n",
        "      tmp = outputs.cpu().numpy()\n",
        "      #print(outputs.cpu().numpy().shape)\n",
        "      #print(tmp)\n",
        "      \n",
        "      # softmax\n",
        "      for i, l in enumerate(tmp):\n",
        "        #print(l)\n",
        "        #print(i)\n",
        "        #print(tmp[i])\n",
        "        tmp[i] = softmax(tmp[i])\n",
        "        #print(tmp[i])\n",
        "\n",
        "      predicts.append(tmp*0.5)\n",
        "\n",
        "    all_predicts += np.concatenate(predicts)"
      ],
      "metadata": {
        "id": "DDybpK2gZwT1"
      },
      "execution_count": null,
      "outputs": []
    },
    {
      "cell_type": "code",
      "source": [
        "model_name = 'seresnext50_32x4d'\n",
        "#'tf_efficientnet_b3_ns'\n",
        "#'seresnext50_32x4d', 'efficientnetv2_rw_s'\n",
        "\n",
        "# 学習済みモデル\n",
        "weights = glob.glob('/content/drive/MyDrive/Competition/ProbSpace/日本画/checkpoints/effv2/fold3_best03.pth')"
      ],
      "metadata": {
        "id": "PxsgU1_FXbKp"
      },
      "execution_count": null,
      "outputs": []
    },
    {
      "cell_type": "code",
      "source": [
        "with torch.no_grad():\n",
        "  for w in weights:\n",
        "    model = timm.create_model(model_name, pretrained=False, num_classes=num_classes)\n",
        "    model.load_state_dict(torch.load(w))\n",
        "    mode = model.to(device)\n",
        "    model.eval()\n",
        "    predicts = []\n",
        "    for x in valid_loader:\n",
        "      x = x[0].to(device)\n",
        "      outputs = model(x)\n",
        "      \n",
        "      #x = x[0].to(device)\n",
        "      #outputs = model(x)\n",
        "      #preds = torch.max(outputs, dim=1)[1]\n",
        "      tmp = outputs.cpu().numpy()\n",
        "      #print(outputs.cpu().numpy().shape)\n",
        "      #print(tmp)\n",
        "      \n",
        "      # softmax\n",
        "      for i, l in enumerate(tmp):\n",
        "        #print(l)\n",
        "        #print(i)\n",
        "        #print(tmp[i])\n",
        "        tmp[i] = softmax(tmp[i])\n",
        "        #print(tmp[i])\n",
        "\n",
        "      predicts.append(tmp*0.6)\n",
        "\n",
        "    all_predicts += np.concatenate(predicts)"
      ],
      "metadata": {
        "id": "_2M7sNTpXbK2"
      },
      "execution_count": null,
      "outputs": []
    },
    {
      "cell_type": "code",
      "source": [
        "all_predicts"
      ],
      "metadata": {
        "colab": {
          "base_uri": "https://localhost:8080/"
        },
        "id": "MW3VCig6XxYG",
        "outputId": "c11b0638-47ab-46ee-8408-bc7ac3ed18b6"
      },
      "execution_count": null,
      "outputs": [
        {
          "output_type": "execute_result",
          "data": {
            "text/plain": [
              "array([[0.03966354, 0.05043643, 0.88476789, 0.02513216],\n",
              "       [0.93988323, 0.02854193, 0.01404961, 0.01752526],\n",
              "       [0.92452812, 0.04040089, 0.01594998, 0.01912107],\n",
              "       ...,\n",
              "       [0.05216777, 0.05861634, 0.85609293, 0.03312296],\n",
              "       [0.01900851, 0.1299658 , 0.0164376 , 0.83458811],\n",
              "       [0.01993428, 0.94795978, 0.01430236, 0.01780359]])"
            ]
          },
          "metadata": {},
          "execution_count": 116
        }
      ]
    },
    {
      "cell_type": "code",
      "source": [
        "print(all_predicts.shape)\n",
        "results = np.argmax(all_predicts, axis=1)\n",
        "results.shape"
      ],
      "metadata": {
        "id": "RXgDp7p3CH9b",
        "colab": {
          "base_uri": "https://localhost:8080/"
        },
        "outputId": "3b8600e6-55cb-43a4-f2dc-1de6b4a5f40f"
      },
      "execution_count": null,
      "outputs": [
        {
          "output_type": "stream",
          "name": "stdout",
          "text": [
            "(1289, 4)\n"
          ]
        },
        {
          "output_type": "execute_result",
          "data": {
            "text/plain": [
              "(1289,)"
            ]
          },
          "metadata": {},
          "execution_count": 117
        }
      ]
    },
    {
      "cell_type": "code",
      "source": [
        "results"
      ],
      "metadata": {
        "colab": {
          "base_uri": "https://localhost:8080/"
        },
        "id": "dTCxU7uraI2K",
        "outputId": "117dcfa7-bef4-4fea-96d6-0c78d5ff44b8"
      },
      "execution_count": null,
      "outputs": [
        {
          "output_type": "execute_result",
          "data": {
            "text/plain": [
              "array([2, 0, 0, ..., 2, 3, 1])"
            ]
          },
          "metadata": {},
          "execution_count": 118
        }
      ]
    },
    {
      "cell_type": "code",
      "source": [
        "#混同行列の作成\n",
        "labels = [0, 1, 2, 3]\n",
        "re_labels = [\"noble\", \"warrior\", \"incarnation\", \"commoner\"]\n",
        "conf_mx = confusion_matrix(valid_dataset.labels, results, labels=labels)\n",
        "conf_df = pd.DataFrame(data=conf_mx, index=[x + \"(act)\" for x in re_labels], columns=[x + \"(pred)\" for x in re_labels])\n",
        "\n",
        "#可視化\n",
        "plt.figure(figsize=(4, 4), dpi=150)\n",
        "sns.heatmap(conf_df, cmap='Blues', annot=True, fmt='d', annot_kws={\"size\": 12}).invert_yaxis()\n",
        "plt.tight_layout()\n",
        " \n",
        "print(classification_report(valid_dataset.labels, results, labels=labels, digits=3))"
      ],
      "metadata": {
        "colab": {
          "base_uri": "https://localhost:8080/",
          "height": 793
        },
        "id": "Pf-lqZY69gfS",
        "outputId": "604a16ed-08cd-45a0-e1f2-3d8fc8968354"
      },
      "execution_count": null,
      "outputs": [
        {
          "output_type": "stream",
          "name": "stdout",
          "text": [
            "              precision    recall  f1-score   support\n",
            "\n",
            "           0      0.926     0.973     0.949       603\n",
            "           1      0.914     0.916     0.915       440\n",
            "           2      0.983     0.927     0.954       124\n",
            "           3      0.835     0.664     0.740       122\n",
            "\n",
            "    accuracy                          0.920      1289\n",
            "   macro avg      0.914     0.870     0.890      1289\n",
            "weighted avg      0.919     0.920     0.918      1289\n",
            "\n"
          ]
        },
        {
          "output_type": "display_data",
          "data": {
            "text/plain": [
              "<Figure size 600x600 with 2 Axes>"
            ],
            "image/png": "[encoded data removed]"
          },
          "metadata": {
            "needs_background": "light"
          }
        }
      ]
    },
    {
      "cell_type": "code",
      "source": [
        "#混同行列の作成\n",
        "labels = [0, 1, 2, 3]\n",
        "re_labels = [\"noble\", \"warrior\", \"incarnation\", \"commoner\"]\n",
        "conf_mx = confusion_matrix(valid_dataset.labels, results, labels=labels)\n",
        "conf_df = pd.DataFrame(data=conf_mx, index=[x + \"(act)\" for x in re_labels], columns=[x + \"(pred)\" for x in re_labels])\n",
        "\n",
        "#可視化\n",
        "plt.figure(figsize=(4, 4), dpi=150)\n",
        "sns.heatmap(conf_df, cmap='Blues', annot=True, fmt='d', annot_kws={\"size\": 12}).invert_yaxis()\n",
        "plt.tight_layout()\n",
        " \n",
        "print(classification_report(valid_dataset.labels, results, labels=labels, digits=3))"
      ],
      "metadata": {
        "colab": {
          "base_uri": "https://localhost:8080/",
          "height": 793
        },
        "id": "g6kRt6_XaLTV",
        "outputId": "6bbeb39a-a70d-4401-8774-ceda17f7e9e6"
      },
      "execution_count": null,
      "outputs": [
        {
          "output_type": "stream",
          "name": "stdout",
          "text": [
            "              precision    recall  f1-score   support\n",
            "\n",
            "           0      0.926     0.975     0.950       603\n",
            "           1      0.918     0.914     0.916       440\n",
            "           2      0.975     0.927     0.950       124\n",
            "           3      0.827     0.664     0.736       122\n",
            "\n",
            "    accuracy                          0.920      1289\n",
            "   macro avg      0.911     0.870     0.888      1289\n",
            "weighted avg      0.918     0.920     0.918      1289\n",
            "\n"
          ]
        },
        {
          "output_type": "display_data",
          "data": {
            "text/plain": [
              "<Figure size 600x600 with 2 Axes>"
            ],
            "image/png": "[encoded data removed]"
          },
          "metadata": {
            "needs_background": "light"
          }
        }
      ]
    },
    {
      "cell_type": "code",
      "source": [
        "sub = pd.DataFrame(results, columns=['y'])\n",
        "sub.index.name = 'id'\n",
        "sub.index += 1"
      ],
      "metadata": {
        "id": "jKuMRW0tbe3P"
      },
      "execution_count": null,
      "outputs": []
    },
    {
      "cell_type": "code",
      "source": [
        "sub.to_csv('/content/drive/MyDrive/Competition/ProbSpace/日本画/submission/submission09.csv')"
      ],
      "metadata": {
        "id": "aK8KIaSN5Ds2"
      },
      "execution_count": null,
      "outputs": []
    }
  ]
}