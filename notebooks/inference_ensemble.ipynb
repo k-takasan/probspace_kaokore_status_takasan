{
  "nbformat": 4,
  "nbformat_minor": 0,
  "metadata": {
    "colab": {
      "name": "inference_ensemble.ipynb",
      "provenance": [],
      "collapsed_sections": [],
      "toc_visible": true
    },
    "kernelspec": {
      "name": "python3",
      "display_name": "Python 3"
    },
    "language_info": {
      "name": "python"
    },
    "gpuClass": "standard",
    "accelerator": "GPU"
  },
  "cells": [
    {
      "cell_type": "markdown",
      "source": [
        "# 各種インポート"
      ],
      "metadata": {
        "id": "CqyZG0rZS_11"
      }
    },
    {
      "cell_type": "code",
      "source": [
        "from google.colab import drive\n",
        "drive.mount('/content/drive')"
      ],
      "metadata": {
        "id": "HT7ZjEqtYU8L",
        "colab": {
          "base_uri": "https://localhost:8080/"
        },
        "outputId": "76cebe15-1f78-4439-a5ee-5baa9eb7e3bc"
      },
      "execution_count": null,
      "outputs": [
        {
          "output_type": "stream",
          "name": "stdout",
          "text": [
            "Mounted at /content/drive\n"
          ]
        }
      ]
    },
    {
      "cell_type": "code",
      "source": [
        "! pip install -q timm"
      ],
      "metadata": {
        "id": "d5xhgv0fbHXQ",
        "colab": {
          "base_uri": "https://localhost:8080/"
        },
        "outputId": "3e68a83a-88e9-46c0-d1bc-74c7db55598b"
      },
      "execution_count": null,
      "outputs": [
        {
          "output_type": "stream",
          "name": "stdout",
          "text": [
            "\u001b[?25l\r\u001b[K     |▋                               | 10 kB 19.6 MB/s eta 0:00:01\r\u001b[K     |█▎                              | 20 kB 23.4 MB/s eta 0:00:01\r\u001b[K     |██                              | 30 kB 16.0 MB/s eta 0:00:01\r\u001b[K     |██▋                             | 40 kB 14.6 MB/s eta 0:00:01\r\u001b[K     |███▏                            | 51 kB 7.1 MB/s eta 0:00:01\r\u001b[K     |███▉                            | 61 kB 8.3 MB/s eta 0:00:01\r\u001b[K     |████▌                           | 71 kB 8.8 MB/s eta 0:00:01\r\u001b[K     |█████▏                          | 81 kB 8.5 MB/s eta 0:00:01\r\u001b[K     |█████▉                          | 92 kB 9.3 MB/s eta 0:00:01\r\u001b[K     |██████▍                         | 102 kB 7.7 MB/s eta 0:00:01\r\u001b[K     |███████                         | 112 kB 7.7 MB/s eta 0:00:01\r\u001b[K     |███████▊                        | 122 kB 7.7 MB/s eta 0:00:01\r\u001b[K     |████████▍                       | 133 kB 7.7 MB/s eta 0:00:01\r\u001b[K     |█████████                       | 143 kB 7.7 MB/s eta 0:00:01\r\u001b[K     |█████████▋                      | 153 kB 7.7 MB/s eta 0:00:01\r\u001b[K     |██████████▎                     | 163 kB 7.7 MB/s eta 0:00:01\r\u001b[K     |███████████                     | 174 kB 7.7 MB/s eta 0:00:01\r\u001b[K     |███████████▋                    | 184 kB 7.7 MB/s eta 0:00:01\r\u001b[K     |████████████▏                   | 194 kB 7.7 MB/s eta 0:00:01\r\u001b[K     |████████████▉                   | 204 kB 7.7 MB/s eta 0:00:01\r\u001b[K     |█████████████▌                  | 215 kB 7.7 MB/s eta 0:00:01\r\u001b[K     |██████████████▏                 | 225 kB 7.7 MB/s eta 0:00:01\r\u001b[K     |██████████████▉                 | 235 kB 7.7 MB/s eta 0:00:01\r\u001b[K     |███████████████▍                | 245 kB 7.7 MB/s eta 0:00:01\r\u001b[K     |████████████████                | 256 kB 7.7 MB/s eta 0:00:01\r\u001b[K     |████████████████▊               | 266 kB 7.7 MB/s eta 0:00:01\r\u001b[K     |█████████████████▍              | 276 kB 7.7 MB/s eta 0:00:01\r\u001b[K     |██████████████████              | 286 kB 7.7 MB/s eta 0:00:01\r\u001b[K     |██████████████████▋             | 296 kB 7.7 MB/s eta 0:00:01\r\u001b[K     |███████████████████▎            | 307 kB 7.7 MB/s eta 0:00:01\r\u001b[K     |████████████████████            | 317 kB 7.7 MB/s eta 0:00:01\r\u001b[K     |████████████████████▋           | 327 kB 7.7 MB/s eta 0:00:01\r\u001b[K     |█████████████████████▏          | 337 kB 7.7 MB/s eta 0:00:01\r\u001b[K     |█████████████████████▉          | 348 kB 7.7 MB/s eta 0:00:01\r\u001b[K     |██████████████████████▌         | 358 kB 7.7 MB/s eta 0:00:01\r\u001b[K     |███████████████████████▏        | 368 kB 7.7 MB/s eta 0:00:01\r\u001b[K     |███████████████████████▊        | 378 kB 7.7 MB/s eta 0:00:01\r\u001b[K     |████████████████████████▍       | 389 kB 7.7 MB/s eta 0:00:01\r\u001b[K     |█████████████████████████       | 399 kB 7.7 MB/s eta 0:00:01\r\u001b[K     |█████████████████████████▊      | 409 kB 7.7 MB/s eta 0:00:01\r\u001b[K     |██████████████████████████▍     | 419 kB 7.7 MB/s eta 0:00:01\r\u001b[K     |███████████████████████████     | 430 kB 7.7 MB/s eta 0:00:01\r\u001b[K     |███████████████████████████▋    | 440 kB 7.7 MB/s eta 0:00:01\r\u001b[K     |████████████████████████████▎   | 450 kB 7.7 MB/s eta 0:00:01\r\u001b[K     |█████████████████████████████   | 460 kB 7.7 MB/s eta 0:00:01\r\u001b[K     |█████████████████████████████▋  | 471 kB 7.7 MB/s eta 0:00:01\r\u001b[K     |██████████████████████████████▏ | 481 kB 7.7 MB/s eta 0:00:01\r\u001b[K     |██████████████████████████████▉ | 491 kB 7.7 MB/s eta 0:00:01\r\u001b[K     |███████████████████████████████▌| 501 kB 7.7 MB/s eta 0:00:01\r\u001b[K     |████████████████████████████████| 509 kB 7.7 MB/s \n",
            "\u001b[?25h"
          ]
        }
      ]
    },
    {
      "cell_type": "code",
      "execution_count": null,
      "metadata": {
        "id": "OGoKdv6-aRvg"
      },
      "outputs": [],
      "source": [
        "import os\n",
        "import glob\n",
        "import numpy as np\n",
        "import pandas as pd\n",
        "import matplotlib.pyplot as plt\n",
        "import torch\n",
        "from torch.utils.data import TensorDataset, DataLoader\n",
        "import timm"
      ]
    },
    {
      "cell_type": "markdown",
      "source": [
        "# データとモデルの読み込み"
      ],
      "metadata": {
        "id": "xvWmq_fuTHvN"
      }
    },
    {
      "cell_type": "code",
      "source": [
        "test_images = np.load('/content/drive/MyDrive/Competition/ProbSpace/日本画/data/test_data.npz')['arr_0']\n",
        "test_images = test_images.transpose((0,3,1,2))\n",
        "test_dataset = torch.utils.data.TensorDataset(torch.from_numpy(test_images).float())\n",
        "test_loader = torch.utils.data.DataLoader(test_dataset, batch_size=64, num_workers=2, pin_memory=True)"
      ],
      "metadata": {
        "id": "RUmAhvfCaW40"
      },
      "execution_count": null,
      "outputs": []
    },
    {
      "cell_type": "code",
      "source": [
        "model_name = 'tf_efficientnet_b3_ns'\n",
        "#'tf_efficientnet_b3_ns'\n",
        "#'seresnext50_32x4d', 'efficientnetv2_rw_s'\n",
        "num_classes = 4\n",
        "# 学習済みモデル\n",
        "weights = glob.glob('/content/drive/MyDrive/Competition/ProbSpace/日本画/checkpoints/Best_update (2)/fold1_best0728.pth')\n",
        "weights += glob.glob('/content/drive/MyDrive/Competition/ProbSpace/日本画/checkpoints/Best_update (2)/fold2*0729.pth')\n",
        "weights += glob.glob('/content/drive/MyDrive/Competition/ProbSpace/日本画/checkpoints/Best_update (2)/fold0_ep40.pth')\n",
        "weights += glob.glob('/content/drive/MyDrive/Competition/ProbSpace/日本画/checkpoints/Best_update (2)/fold3_best_update.pth')\n",
        "weights += glob.glob('/content/drive/MyDrive/Competition/ProbSpace/日本画/checkpoints/Best_update (2)/fold4_best_update.pth')\n",
        "\n",
        "device = torch.device(\"cuda:0\" if torch.cuda.is_available() else \"cpu\")"
      ],
      "metadata": {
        "id": "YIqal800YFDp"
      },
      "execution_count": null,
      "outputs": []
    },
    {
      "cell_type": "code",
      "source": [
        "weights = glob.glob('/content/drive/MyDrive/Competition/ProbSpace/日本画/checkpoints/TF_EfficientNetB3_NS/fold1*0728.pth')\n",
        "#weights += glob.glob('/content/drive/MyDrive/Competition/ProbSpace/日本画/checkpoints/TF_EfficientNetB3_NS/fold2*0729.pth')\n",
        "#weights += glob.glob('/content/drive/MyDrive/Competition/ProbSpace/日本画/checkpoints/Best_checkpoints/fold0_best0?.pth')\n",
        "weights += glob.glob('/content/drive/MyDrive/Competition/ProbSpace/日本画/checkpoints/Best_update/fold0_*.pth')\n",
        "weights += glob.glob('/content/drive/MyDrive/Competition/ProbSpace/日本画/checkpoints/Best_checkpoints/fold2_best0?.pth')\n",
        "weights += glob.glob('/content/drive/MyDrive/Competition/ProbSpace/日本画/checkpoints/Best_update/fold3_best_update.pth')\n",
        "#weights += glob.glob('/content/drive/MyDrive/Competition/ProbSpace/日本画/checkpoints/Best_update/fold4_best_update.pth')\n",
        "weights += glob.glob('/content/drive/MyDrive/Competition/ProbSpace/日本画/checkpoints/Best_checkpoints/fold4_best0?.pth')"
      ],
      "metadata": {
        "id": "DRU0rwHH7n7c"
      },
      "execution_count": null,
      "outputs": []
    },
    {
      "cell_type": "code",
      "source": [
        "weights"
      ],
      "metadata": {
        "colab": {
          "base_uri": "https://localhost:8080/"
        },
        "id": "sZzdyMfxAVV_",
        "outputId": "fefb5e8b-2112-44a0-dd9c-f0d0257645c6"
      },
      "execution_count": null,
      "outputs": [
        {
          "output_type": "execute_result",
          "data": {
            "text/plain": [
              "['/content/drive/MyDrive/Competition/ProbSpace/日本画/checkpoints/TF_EfficientNetB3_NS/fold1_best0728.pth',\n",
              " '/content/drive/MyDrive/Competition/ProbSpace/日本画/checkpoints/Best_update/fold0_ep40.pth',\n",
              " '/content/drive/MyDrive/Competition/ProbSpace/日本画/checkpoints/Best_checkpoints/fold2_best02.pth',\n",
              " '/content/drive/MyDrive/Competition/ProbSpace/日本画/checkpoints/Best_update/fold3_best_update.pth',\n",
              " '/content/drive/MyDrive/Competition/ProbSpace/日本画/checkpoints/Best_checkpoints/fold4_best03.pth']"
            ]
          },
          "metadata": {},
          "execution_count": 70
        }
      ]
    },
    {
      "cell_type": "markdown",
      "source": [
        "# 推論"
      ],
      "metadata": {
        "id": "mpAVW4BCTO-_"
      }
    },
    {
      "cell_type": "code",
      "source": [
        "def softmax(a):\n",
        "    c = np.max(a) # 最大値\n",
        "    exp_a = np.exp(a - c) # 分子:オーバーフロー対策\n",
        "    sum_exp_a = np.sum(exp_a) # 分母\n",
        "    y = exp_a / sum_exp_a \n",
        "    return y"
      ],
      "metadata": {
        "id": "OfAF0vq5rHvK"
      },
      "execution_count": null,
      "outputs": []
    },
    {
      "cell_type": "code",
      "source": [
        "all_predicts = np.zeros((2000, 4))\n",
        "#all_predicts = np.zeros((len(test_images), 4))\n",
        "with torch.no_grad():\n",
        "  for w in weights:\n",
        "    model = timm.create_model(model_name, pretrained=False, num_classes=num_classes)\n",
        "    model.load_state_dict(torch.load(w))\n",
        "    mode = model.to(device)\n",
        "    model.eval()\n",
        "    predicts = []\n",
        "    for x in test_loader:\n",
        "      x = x[0].to(device)\n",
        "      outputs = model(x)\n",
        "      \n",
        "      #x = x[0].to(device)\n",
        "      #outputs = model(x)\n",
        "      #preds = torch.max(outputs, dim=1)[1]\n",
        "      tmp = outputs.cpu().numpy()\n",
        "      #print(outputs.cpu().numpy().shape)\n",
        "      #print(tmp)\n",
        "      \n",
        "      # softmax\n",
        "      for i, l in enumerate(tmp):\n",
        "        #print(l)\n",
        "        #print(i)\n",
        "        #print(tmp[i])\n",
        "        tmp[i] = softmax(tmp[i])\n",
        "        #print(tmp[i])\n",
        "\n",
        "      predicts.append(tmp)\n",
        "\n",
        "    all_predicts += np.concatenate(predicts)"
      ],
      "metadata": {
        "id": "3Cq2VUQsYj9x"
      },
      "execution_count": null,
      "outputs": []
    },
    {
      "cell_type": "code",
      "source": [
        "model_name = 'efficientnetv2_rw_s'\n",
        "#'tf_efficientnet_b3_ns'\n",
        "#'seresnext50_32x4d', 'efficientnetv2_rw_s'\n",
        "\n",
        "# 学習済みモデル\n",
        "weights = glob.glob('/content/drive/MyDrive/Competition/ProbSpace/日本画/checkpoints/effv2_true/fold0_best03.pth')\n",
        "weights += glob.glob('/content/drive/MyDrive/Competition/ProbSpace/日本画/checkpoints/effv2_true/fold1_best03.pth')\n",
        "weights += glob.glob('/content/drive/MyDrive/Competition/ProbSpace/日本画/checkpoints/effv2_true/fold2_best03.pth')\n",
        "weights += glob.glob('/content/drive/MyDrive/Competition/ProbSpace/日本画/checkpoints/effv2_true/fold3_best03.pth')\n",
        "weights += glob.glob('/content/drive/MyDrive/Competition/ProbSpace/日本画/checkpoints/effv2_true/fold4_best03.pth')"
      ],
      "metadata": {
        "id": "idV4noqKZFrL"
      },
      "execution_count": null,
      "outputs": []
    },
    {
      "cell_type": "code",
      "source": [
        "with torch.no_grad():\n",
        "  for w in weights:\n",
        "    model = timm.create_model(model_name, pretrained=False, num_classes=num_classes)\n",
        "    model.load_state_dict(torch.load(w))\n",
        "    mode = model.to(device)\n",
        "    model.eval()\n",
        "    predicts = []\n",
        "    for x in test_loader:\n",
        "      x = x[0].to(device)\n",
        "      outputs = model(x)\n",
        "      \n",
        "      #x = x[0].to(device)\n",
        "      #outputs = model(x)\n",
        "      #preds = torch.max(outputs, dim=1)[1]\n",
        "      tmp = outputs.cpu().numpy()\n",
        "      #print(outputs.cpu().numpy().shape)\n",
        "      #print(tmp)\n",
        "      \n",
        "      # softmax\n",
        "      for i, l in enumerate(tmp):\n",
        "        #print(l)\n",
        "        #print(i)\n",
        "        #print(tmp[i])\n",
        "        tmp[i] = softmax(tmp[i])\n",
        "        #print(tmp[i])\n",
        "\n",
        "      predicts.append(tmp*0.5)\n",
        "\n",
        "    all_predicts += np.concatenate(predicts)"
      ],
      "metadata": {
        "id": "dKgRy2O1ZFrW"
      },
      "execution_count": null,
      "outputs": []
    },
    {
      "cell_type": "code",
      "source": [
        "model_name = 'seresnext50_32x4d'\n",
        "#'tf_efficientnet_b3_ns'\n",
        "#'seresnext50_32x4d', 'efficientnetv2_rw_s'\n",
        "\n",
        "# 学習済みモデル\n",
        "weights = glob.glob('/content/drive/MyDrive/Competition/ProbSpace/日本画/checkpoints/effv2/fold0_best03.pth')\n",
        "weights += glob.glob('/content/drive/MyDrive/Competition/ProbSpace/日本画/checkpoints/effv2/fold1_best03.pth')\n",
        "weights += glob.glob('/content/drive/MyDrive/Competition/ProbSpace/日本画/checkpoints/effv2/fold2_best03.pth')\n",
        "weights += glob.glob('/content/drive/MyDrive/Competition/ProbSpace/日本画/checkpoints/effv2/fold3_best03.pth')\n",
        "weights += glob.glob('/content/drive/MyDrive/Competition/ProbSpace/日本画/checkpoints/effv2/fold4_best03.pth')"
      ],
      "metadata": {
        "id": "szkpIm04ZraG"
      },
      "execution_count": null,
      "outputs": []
    },
    {
      "cell_type": "code",
      "source": [
        "with torch.no_grad():\n",
        "  for w in weights:\n",
        "    model = timm.create_model(model_name, pretrained=False, num_classes=num_classes)\n",
        "    model.load_state_dict(torch.load(w))\n",
        "    mode = model.to(device)\n",
        "    model.eval()\n",
        "    predicts = []\n",
        "    for x in test_loader:\n",
        "      x = x[0].to(device)\n",
        "      outputs = model(x)\n",
        "      \n",
        "      #x = x[0].to(device)\n",
        "      #outputs = model(x)\n",
        "      #preds = torch.max(outputs, dim=1)[1]\n",
        "      tmp = outputs.cpu().numpy()\n",
        "      #print(outputs.cpu().numpy().shape)\n",
        "      #print(tmp)\n",
        "      \n",
        "      # softmax\n",
        "      for i, l in enumerate(tmp):\n",
        "        #print(l)\n",
        "        #print(i)\n",
        "        #print(tmp[i])\n",
        "        tmp[i] = softmax(tmp[i])\n",
        "        #print(tmp[i])\n",
        "\n",
        "      predicts.append(tmp*0.6)\n",
        "\n",
        "    all_predicts += np.concatenate(predicts)"
      ],
      "metadata": {
        "id": "RRsSiBMXZraH"
      },
      "execution_count": null,
      "outputs": []
    },
    {
      "cell_type": "code",
      "source": [
        "all_predicts.sum(axis=-1)"
      ],
      "metadata": {
        "colab": {
          "base_uri": "https://localhost:8080/"
        },
        "id": "_CykRSgaZ-PO",
        "outputId": "94f14780-2fa0-4e1c-93df-88d7dd121e2e"
      },
      "execution_count": null,
      "outputs": [
        {
          "output_type": "execute_result",
          "data": {
            "text/plain": [
              "array([10.50000022, 10.49999994, 10.50000032, ..., 10.49999994,\n",
              "       10.49999991, 10.49999998])"
            ]
          },
          "metadata": {},
          "execution_count": 77
        }
      ]
    },
    {
      "cell_type": "code",
      "source": [
        "print(all_predicts.shape)\n",
        "results = np.argmax(all_predicts, axis=1)\n",
        "results.shape"
      ],
      "metadata": {
        "id": "RXgDp7p3CH9b",
        "colab": {
          "base_uri": "https://localhost:8080/"
        },
        "outputId": "0fd58eff-8009-41eb-b80f-df55b34b33c7"
      },
      "execution_count": null,
      "outputs": [
        {
          "output_type": "stream",
          "name": "stdout",
          "text": [
            "(2000, 4)\n"
          ]
        },
        {
          "output_type": "execute_result",
          "data": {
            "text/plain": [
              "(2000,)"
            ]
          },
          "metadata": {},
          "execution_count": 78
        }
      ]
    },
    {
      "cell_type": "code",
      "source": [
        "sub = pd.DataFrame(results, columns=['y'])\n",
        "sub.index.name = 'id'\n",
        "sub.index += 1"
      ],
      "metadata": {
        "id": "jKuMRW0tbe3P"
      },
      "execution_count": null,
      "outputs": []
    },
    {
      "cell_type": "code",
      "source": [
        "sub.to_csv('/content/drive/MyDrive/Competition/ProbSpace/日本画/submission/submission_takasan_ensemble_b3_05v2_06seres_foldall_exmodel.csv')"
      ],
      "metadata": {
        "id": "aK8KIaSN5Ds2"
      },
      "execution_count": null,
      "outputs": []
    }
  ]
}