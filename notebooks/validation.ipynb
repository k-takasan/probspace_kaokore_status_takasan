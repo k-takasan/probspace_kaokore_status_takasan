{
  "nbformat": 4,
  "nbformat_minor": 0,
  "metadata": {
    "colab": {
      "name": "validation.ipynb",
      "provenance": [],
      "collapsed_sections": [],
      "toc_visible": true
    },
    "kernelspec": {
      "name": "python3",
      "display_name": "Python 3"
    },
    "language_info": {
      "name": "python"
    },
    "accelerator": "GPU",
    "gpuClass": "standard"
  },
  "cells": [
    {
      "cell_type": "markdown",
      "source": [
        "# 各種インポート"
      ],
      "metadata": {
        "id": "p9gHah3AVLS3"
      }
    },
    {
      "cell_type": "code",
      "source": [
        "from google.colab import drive\n",
        "drive.mount('/content/drive')"
      ],
      "metadata": {
        "id": "HT7ZjEqtYU8L",
        "colab": {
          "base_uri": "https://localhost:8080/"
        },
        "outputId": "d1cbd49a-60ed-446f-b812-92ef115d004f"
      },
      "execution_count": null,
      "outputs": [
        {
          "output_type": "stream",
          "name": "stdout",
          "text": [
            "Mounted at /content/drive\n"
          ]
        }
      ]
    },
    {
      "cell_type": "code",
      "source": [
        "!pip install -q timm\n",
        "!pip install -q torchmetrics"
      ],
      "metadata": {
        "id": "d5xhgv0fbHXQ",
        "colab": {
          "base_uri": "https://localhost:8080/"
        },
        "outputId": "b3178137-498e-46fb-ae10-eb81debdcbc4"
      },
      "execution_count": null,
      "outputs": [
        {
          "output_type": "stream",
          "name": "stdout",
          "text": [
            "\u001b[K     |████████████████████████████████| 509 kB 8.3 MB/s \n",
            "\u001b[K     |████████████████████████████████| 419 kB 7.9 MB/s \n",
            "\u001b[?25h"
          ]
        }
      ]
    },
    {
      "cell_type": "code",
      "execution_count": null,
      "metadata": {
        "id": "OGoKdv6-aRvg"
      },
      "outputs": [],
      "source": [
        "import os\n",
        "import random\n",
        "import numpy as np\n",
        "import pandas as pd\n",
        "import matplotlib.pyplot as plt\n",
        "import seaborn as sns\n",
        "import torch\n",
        "import glob\n",
        "from torch.utils.data import TensorDataset, DataLoader\n",
        "from torch.utils.data.dataset import Dataset\n",
        "from torch.utils.tensorboard import SummaryWriter\n",
        "from torch import nn, optim\n",
        "from torch.optim import lr_scheduler\n",
        "from torchvision import transforms as T\n",
        "import timm\n",
        "from torchmetrics import F1Score\n",
        "from sklearn.model_selection import StratifiedKFold\n",
        "from tqdm.auto import tqdm\n",
        "from sklearn.metrics import confusion_matrix, classification_report"
      ]
    },
    {
      "cell_type": "code",
      "source": [
        "def seed_everything(seed=2022):\n",
        "    random.seed(seed)\n",
        "    os.environ['PYTHONHASHSEED'] = str(seed)\n",
        "    np.random.seed(seed)\n",
        "    torch.manual_seed(seed)\n",
        "    torch.cuda.manual_seed(seed)\n",
        "    torch.backends.cudnn.deterministic = True\n",
        "seed_everything()"
      ],
      "metadata": {
        "id": "zsOtHXMSfIl4"
      },
      "execution_count": null,
      "outputs": []
    },
    {
      "cell_type": "markdown",
      "source": [
        "# データの読み込み"
      ],
      "metadata": {
        "id": "cHYOs9lYVO-j"
      }
    },
    {
      "cell_type": "code",
      "source": [
        "images = np.load('/content/drive/MyDrive/Competition/ProbSpace/日本画/data/train_data.npz')\n",
        "print(images.files)"
      ],
      "metadata": {
        "colab": {
          "base_uri": "https://localhost:8080/"
        },
        "id": "daaEQL8mRy1k",
        "outputId": "ea407a5f-b620-4625-8b0c-2758709f1847"
      },
      "execution_count": null,
      "outputs": [
        {
          "output_type": "stream",
          "name": "stdout",
          "text": [
            "['arr_0', 'arr_1']\n"
          ]
        }
      ]
    },
    {
      "cell_type": "code",
      "source": [
        "print(images['arr_0'].shape)\n",
        "print(images['arr_1'].shape)"
      ],
      "metadata": {
        "colab": {
          "base_uri": "https://localhost:8080/"
        },
        "id": "th7n8CnWR4is",
        "outputId": "6eebfa93-80d3-4627-b3bf-3f6595c088eb"
      },
      "execution_count": null,
      "outputs": [
        {
          "output_type": "stream",
          "name": "stdout",
          "text": [
            "(6446, 256, 256, 3)\n",
            "(6446,)\n"
          ]
        }
      ]
    },
    {
      "cell_type": "code",
      "source": [
        "train_images = images['arr_0']\n",
        "train_labels = images['arr_1']"
      ],
      "metadata": {
        "id": "8-GyM-KyR-Hk"
      },
      "execution_count": null,
      "outputs": []
    },
    {
      "cell_type": "code",
      "source": [
        "train_images = train_images.transpose((0,3,1,2))"
      ],
      "metadata": {
        "id": "NcSuPF16XboZ"
      },
      "execution_count": null,
      "outputs": []
    },
    {
      "cell_type": "code",
      "source": [
        "# 貴族、武士、化け物、平民\n",
        "classes = {0: 'noble', 1: 'warrior', 2: 'incarnetion', 3: 'commoner'}"
      ],
      "metadata": {
        "id": "OEJywChxR_1F"
      },
      "execution_count": null,
      "outputs": []
    },
    {
      "cell_type": "code",
      "source": [
        "plt.figure()\n",
        "plt.hist(train_labels)\n",
        "plt.show()"
      ],
      "metadata": {
        "colab": {
          "base_uri": "https://localhost:8080/",
          "height": 265
        },
        "id": "MUMeftCUSAf9",
        "outputId": "7b387462-7fb9-4ea1-ff25-f580c087c477"
      },
      "execution_count": null,
      "outputs": [
        {
          "output_type": "display_data",
          "data": {
            "text/plain": [
              "<Figure size 432x288 with 1 Axes>"
            ],
            "image/png": "[encoded data removed]"
          },
          "metadata": {
            "needs_background": "light"
          }
        }
      ]
    },
    {
      "cell_type": "code",
      "source": [
        "# test data\n",
        "#test_images = np.load('/content/drive/MyDrive/Competition/ProbSpace/日本画/data/test_data.npz')['arr_0']\n",
        "#test_images = test_images.transpose((0,3,1,2))\n",
        "#test_dataset = torch.utils.data.TensorDataset(torch.from_numpy(test_images).float())\n",
        "#test_loader = torch.utils.data.DataLoader(test_dataset, batch_size=64, num_workers=2, pin_memory=True)"
      ],
      "metadata": {
        "id": "RUmAhvfCaW40"
      },
      "execution_count": null,
      "outputs": []
    },
    {
      "cell_type": "code",
      "source": [
        "class My_Dataset(Dataset):\n",
        "\n",
        "  def __init__(self, images, labels, transform=None):\n",
        "    super().__init__()\n",
        "    self.images = images\n",
        "    self.labels = labels\n",
        "    self.transform = transform\n",
        "\n",
        "  def __getitem__(self, idx):\n",
        "    image = self.images[idx]\n",
        "    label = self.labels[idx]\n",
        "\n",
        "    if self.transform:\n",
        "      image = self.transform(image)\n",
        "\n",
        "    return image, label\n",
        "\n",
        "  def __len__(self):\n",
        "    return len(self.labels)\n",
        "\n",
        "\n",
        "def train_transformer(n=1, m=1):\n",
        "  return T.Compose([T.RandAugment(num_ops=n, magnitude=m)])\n",
        "\n",
        "def valid_transformer():\n",
        "  return T.Compose([T.ToTensor()])"
      ],
      "metadata": {
        "id": "OTOKQLavT0mY"
      },
      "execution_count": null,
      "outputs": []
    },
    {
      "cell_type": "code",
      "source": [
        "kf = StratifiedKFold(n_splits=5, shuffle=True, random_state=2022)"
      ],
      "metadata": {
        "id": "CmuvAwXaT82G"
      },
      "execution_count": null,
      "outputs": []
    },
    {
      "cell_type": "code",
      "source": [
        "for fold, (train_index, valid_index) in enumerate(kf.split(train_images, train_labels)):\n",
        "    if fold == 2:\n",
        "      pass\n",
        "    else:\n",
        "      continue\n",
        "\n",
        "    valid_dataset = My_Dataset(torch.from_numpy(train_images[valid_index]).float(), torch.from_numpy(train_labels[valid_index].astype(np.int64)))\n",
        "    valid_loader = DataLoader(valid_dataset, batch_size=64, shuffle=False, num_workers=2, pin_memory=True)\n"
      ],
      "metadata": {
        "id": "L2l6-S5TSWfo"
      },
      "execution_count": null,
      "outputs": []
    },
    {
      "cell_type": "code",
      "source": [
        "valid_dataset.labels"
      ],
      "metadata": {
        "colab": {
          "base_uri": "https://localhost:8080/"
        },
        "id": "2JDNMR0VUuQu",
        "outputId": "57859668-bef9-4cff-e25a-e40b4f988d31"
      },
      "execution_count": null,
      "outputs": [
        {
          "output_type": "execute_result",
          "data": {
            "text/plain": [
              "tensor([1, 0, 2,  ..., 1, 1, 1])"
            ]
          },
          "metadata": {},
          "execution_count": 29
        }
      ]
    },
    {
      "cell_type": "code",
      "source": [
        "len(valid_dataset.labels)"
      ],
      "metadata": {
        "colab": {
          "base_uri": "https://localhost:8080/"
        },
        "id": "xjguXzy-YDeW",
        "outputId": "339790f9-644d-4ca6-8ccd-da2b98cfabfd"
      },
      "execution_count": null,
      "outputs": [
        {
          "output_type": "execute_result",
          "data": {
            "text/plain": [
              "1289"
            ]
          },
          "metadata": {},
          "execution_count": 30
        }
      ]
    },
    {
      "cell_type": "markdown",
      "source": [
        "# モデルの読み込み"
      ],
      "metadata": {
        "id": "vcl9JrxRVWS_"
      }
    },
    {
      "cell_type": "code",
      "source": [
        "#model_name = 'resnet34'\n",
        "model_name = 'tf_efficientnet_b3_ns'\n",
        "num_classes = 4\n",
        "# 学習済みモデル\n",
        "#weights = glob.glob('/content/drive/MyDrive/Competition/ProbSpace/日本画/checkpoints/fold*')\n",
        "weights = glob.glob('/content/drive/MyDrive/Competition/ProbSpace/日本画/checkpoints/TF_EfficientNetB3_NS/fold2*0729.pth')\n",
        "#weights = glob.glob('/content/drive/MyDrive/Competition/ProbSpace/日本画/checkpoints/eff_b3_FocalLoss_weight_fold0*')\n",
        "#weights = glob.glob('/content/drive/MyDrive/Competition/ProbSpace/日本画/checkpoints/eff_b3_FocalLoss_fold1')\n",
        "device = torch.device(\"cuda:0\" if torch.cuda.is_available() else \"cpu\")"
      ],
      "metadata": {
        "id": "uOVUxOksbGrp"
      },
      "execution_count": null,
      "outputs": []
    },
    {
      "cell_type": "code",
      "source": [
        "all_predicts = np.zeros((len(valid_dataset.labels), 4))\n",
        "with torch.no_grad():\n",
        "  for w in weights:\n",
        "    model = timm.create_model(model_name, pretrained=False, num_classes=num_classes)\n",
        "    model.load_state_dict(torch.load(w))\n",
        "    mode = model.to(device)\n",
        "    model.eval()\n",
        "    predicts = []\n",
        "    for batch in valid_loader:\n",
        "      images, labels = batch\n",
        "      images, labels = images.to(device), labels.to(device)\n",
        "\n",
        "      outputs = model(images)\n",
        "      #x = x[0].to(device)\n",
        "      #outputs = model(x)\n",
        "      #preds = torch.max(outputs, dim=1)[1]\n",
        "      predicts.append(outputs.cpu().numpy())\n",
        "    all_predicts += np.concatenate(predicts)"
      ],
      "metadata": {
        "id": "Xglpt92R36cq"
      },
      "execution_count": null,
      "outputs": []
    },
    {
      "cell_type": "code",
      "source": [
        "all_predicts"
      ],
      "metadata": {
        "colab": {
          "base_uri": "https://localhost:8080/"
        },
        "id": "MW3VCig6XxYG",
        "outputId": "a5c6ac6f-e236-4ed6-8104-688700df3b20"
      },
      "execution_count": null,
      "outputs": [
        {
          "output_type": "execute_result",
          "data": {
            "text/plain": [
              "array([[-0.36933857,  3.17106986, -0.88981235,  0.62419873],\n",
              "       [ 3.43182921, -0.06996605, -0.7701757 ,  0.77968401],\n",
              "       [-0.63130456, -0.86741364,  2.69307733,  0.48670813],\n",
              "       ...,\n",
              "       [-0.22483055,  3.57809567, -0.73478824,  0.81929886],\n",
              "       [-0.21056984,  3.21834016, -1.03495181,  0.65681344],\n",
              "       [-1.00320268,  2.74975228, -1.52311623,  2.31968951]])"
            ]
          },
          "metadata": {},
          "execution_count": 33
        }
      ]
    },
    {
      "cell_type": "code",
      "source": [
        "print(all_predicts.shape)\n",
        "results = np.argmax(all_predicts, axis=1)\n",
        "results.shape"
      ],
      "metadata": {
        "id": "RXgDp7p3CH9b",
        "colab": {
          "base_uri": "https://localhost:8080/"
        },
        "outputId": "ba68bdbd-0165-43ba-9dfc-6a4f2928b0e8"
      },
      "execution_count": null,
      "outputs": [
        {
          "output_type": "stream",
          "name": "stdout",
          "text": [
            "(1289, 4)\n"
          ]
        },
        {
          "output_type": "execute_result",
          "data": {
            "text/plain": [
              "(1289,)"
            ]
          },
          "metadata": {},
          "execution_count": 34
        }
      ]
    },
    {
      "cell_type": "code",
      "source": [
        "results"
      ],
      "metadata": {
        "colab": {
          "base_uri": "https://localhost:8080/"
        },
        "id": "dTCxU7uraI2K",
        "outputId": "e12e81ce-0ea3-478c-e4fd-6962204450b7"
      },
      "execution_count": null,
      "outputs": [
        {
          "output_type": "execute_result",
          "data": {
            "text/plain": [
              "array([1, 0, 2, ..., 1, 1, 1])"
            ]
          },
          "metadata": {},
          "execution_count": 35
        }
      ]
    },
    {
      "cell_type": "markdown",
      "source": [
        "# 推論結果"
      ],
      "metadata": {
        "id": "JwTiZuwZVZID"
      }
    },
    {
      "cell_type": "code",
      "source": [
        "#混同行列の作成\n",
        "labels = [0, 1, 2, 3]\n",
        "re_labels = [\"noble\", \"warrior\", \"incarnation\", \"commoner\"]\n",
        "conf_mx = confusion_matrix(valid_dataset.labels, results, labels=labels)\n",
        "conf_df = pd.DataFrame(data=conf_mx, index=[x + \"(act)\" for x in re_labels], columns=[x + \"(pred)\" for x in re_labels])\n",
        "\n",
        "#可視化\n",
        "plt.figure(figsize=(4, 4), dpi=150)\n",
        "sns.heatmap(conf_df, cmap='Blues', annot=True, fmt='d', annot_kws={\"size\": 12}).invert_yaxis()\n",
        "plt.tight_layout()\n",
        " \n",
        "print(classification_report(valid_dataset.labels, results, labels=labels, digits=3))"
      ],
      "metadata": {
        "colab": {
          "base_uri": "https://localhost:8080/",
          "height": 793
        },
        "id": "g6kRt6_XaLTV",
        "outputId": "ead2bf51-acd4-4bfb-cd6d-f2499b80af6b"
      },
      "execution_count": null,
      "outputs": [
        {
          "output_type": "stream",
          "name": "stdout",
          "text": [
            "              precision    recall  f1-score   support\n",
            "\n",
            "           0      0.927     0.949     0.938       603\n",
            "           1      0.918     0.870     0.894       440\n",
            "           2      0.930     0.960     0.944       124\n",
            "           3      0.677     0.705     0.691       122\n",
            "\n",
            "    accuracy                          0.900      1289\n",
            "   macro avg      0.863     0.871     0.867      1289\n",
            "weighted avg      0.901     0.900     0.900      1289\n",
            "\n"
          ]
        },
        {
          "output_type": "display_data",
          "data": {
            "text/plain": [
              "<Figure size 600x600 with 2 Axes>"
            ],
            "image/png": "[encoded data removed]"
          },
          "metadata": {
            "needs_background": "light"
          }
        }
      ]
    },
    {
      "cell_type": "code",
      "source": [
        "sub = pd.DataFrame(results, columns=['y'])\n",
        "sub.index.name = 'id'\n",
        "sub.index += 1"
      ],
      "metadata": {
        "id": "jKuMRW0tbe3P"
      },
      "execution_count": null,
      "outputs": []
    },
    {
      "cell_type": "code",
      "source": [
        "sub.to_csv('/content/drive/MyDrive/Competition/ProbSpace/日本画/submission/submission09.csv')"
      ],
      "metadata": {
        "id": "aK8KIaSN5Ds2"
      },
      "execution_count": null,
      "outputs": []
    }
  ]
}