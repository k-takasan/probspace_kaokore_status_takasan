{
  "nbformat": 4,
  "nbformat_minor": 0,
  "metadata": {
    "colab": {
      "name": "inference.ipynb",
      "provenance": [],
      "collapsed_sections": [],
      "toc_visible": true
    },
    "kernelspec": {
      "name": "python3",
      "display_name": "Python 3"
    },
    "language_info": {
      "name": "python"
    },
    "gpuClass": "standard",
    "accelerator": "GPU"
  },
  "cells": [
    {
      "cell_type": "markdown",
      "source": [
        "# 各種インポート"
      ],
      "metadata": {
        "id": "dqRyPiWyT6bp"
      }
    },
    {
      "cell_type": "code",
      "source": [
        "from google.colab import drive\n",
        "drive.mount('/content/drive')"
      ],
      "metadata": {
        "id": "HT7ZjEqtYU8L",
        "colab": {
          "base_uri": "https://localhost:8080/"
        },
        "outputId": "b502af73-3aeb-44cd-97e3-297d76d66719"
      },
      "execution_count": null,
      "outputs": [
        {
          "output_type": "stream",
          "name": "stdout",
          "text": [
            "Mounted at /content/drive\n"
          ]
        }
      ]
    },
    {
      "cell_type": "code",
      "source": [
        "! pip install -q timm"
      ],
      "metadata": {
        "id": "d5xhgv0fbHXQ",
        "colab": {
          "base_uri": "https://localhost:8080/"
        },
        "outputId": "8a00c9b0-3e72-4798-f298-69875d808679"
      },
      "execution_count": null,
      "outputs": [
        {
          "output_type": "stream",
          "name": "stdout",
          "text": [
            "\u001b[?25l\r\u001b[K     |▋                               | 10 kB 25.3 MB/s eta 0:00:01\r\u001b[K     |█▎                              | 20 kB 10.9 MB/s eta 0:00:01\r\u001b[K     |██                              | 30 kB 8.7 MB/s eta 0:00:01\r\u001b[K     |██▋                             | 40 kB 3.6 MB/s eta 0:00:01\r\u001b[K     |███▏                            | 51 kB 3.8 MB/s eta 0:00:01\r\u001b[K     |███▉                            | 61 kB 4.5 MB/s eta 0:00:01\r\u001b[K     |████▌                           | 71 kB 4.6 MB/s eta 0:00:01\r\u001b[K     |█████▏                          | 81 kB 4.6 MB/s eta 0:00:01\r\u001b[K     |█████▉                          | 92 kB 5.2 MB/s eta 0:00:01\r\u001b[K     |██████▍                         | 102 kB 4.3 MB/s eta 0:00:01\r\u001b[K     |███████                         | 112 kB 4.3 MB/s eta 0:00:01\r\u001b[K     |███████▊                        | 122 kB 4.3 MB/s eta 0:00:01\r\u001b[K     |████████▍                       | 133 kB 4.3 MB/s eta 0:00:01\r\u001b[K     |█████████                       | 143 kB 4.3 MB/s eta 0:00:01\r\u001b[K     |█████████▋                      | 153 kB 4.3 MB/s eta 0:00:01\r\u001b[K     |██████████▎                     | 163 kB 4.3 MB/s eta 0:00:01\r\u001b[K     |███████████                     | 174 kB 4.3 MB/s eta 0:00:01\r\u001b[K     |███████████▋                    | 184 kB 4.3 MB/s eta 0:00:01\r\u001b[K     |████████████▏                   | 194 kB 4.3 MB/s eta 0:00:01\r\u001b[K     |████████████▉                   | 204 kB 4.3 MB/s eta 0:00:01\r\u001b[K     |█████████████▌                  | 215 kB 4.3 MB/s eta 0:00:01\r\u001b[K     |██████████████▏                 | 225 kB 4.3 MB/s eta 0:00:01\r\u001b[K     |██████████████▉                 | 235 kB 4.3 MB/s eta 0:00:01\r\u001b[K     |███████████████▍                | 245 kB 4.3 MB/s eta 0:00:01\r\u001b[K     |████████████████                | 256 kB 4.3 MB/s eta 0:00:01\r\u001b[K     |████████████████▊               | 266 kB 4.3 MB/s eta 0:00:01\r\u001b[K     |█████████████████▍              | 276 kB 4.3 MB/s eta 0:00:01\r\u001b[K     |██████████████████              | 286 kB 4.3 MB/s eta 0:00:01\r\u001b[K     |██████████████████▋             | 296 kB 4.3 MB/s eta 0:00:01\r\u001b[K     |███████████████████▎            | 307 kB 4.3 MB/s eta 0:00:01\r\u001b[K     |████████████████████            | 317 kB 4.3 MB/s eta 0:00:01\r\u001b[K     |████████████████████▋           | 327 kB 4.3 MB/s eta 0:00:01\r\u001b[K     |█████████████████████▏          | 337 kB 4.3 MB/s eta 0:00:01\r\u001b[K     |█████████████████████▉          | 348 kB 4.3 MB/s eta 0:00:01\r\u001b[K     |██████████████████████▌         | 358 kB 4.3 MB/s eta 0:00:01\r\u001b[K     |███████████████████████▏        | 368 kB 4.3 MB/s eta 0:00:01\r\u001b[K     |███████████████████████▊        | 378 kB 4.3 MB/s eta 0:00:01\r\u001b[K     |████████████████████████▍       | 389 kB 4.3 MB/s eta 0:00:01\r\u001b[K     |█████████████████████████       | 399 kB 4.3 MB/s eta 0:00:01\r\u001b[K     |█████████████████████████▊      | 409 kB 4.3 MB/s eta 0:00:01\r\u001b[K     |██████████████████████████▍     | 419 kB 4.3 MB/s eta 0:00:01\r\u001b[K     |███████████████████████████     | 430 kB 4.3 MB/s eta 0:00:01\r\u001b[K     |███████████████████████████▋    | 440 kB 4.3 MB/s eta 0:00:01\r\u001b[K     |████████████████████████████▎   | 450 kB 4.3 MB/s eta 0:00:01\r\u001b[K     |█████████████████████████████   | 460 kB 4.3 MB/s eta 0:00:01\r\u001b[K     |█████████████████████████████▋  | 471 kB 4.3 MB/s eta 0:00:01\r\u001b[K     |██████████████████████████████▏ | 481 kB 4.3 MB/s eta 0:00:01\r\u001b[K     |██████████████████████████████▉ | 491 kB 4.3 MB/s eta 0:00:01\r\u001b[K     |███████████████████████████████▌| 501 kB 4.3 MB/s eta 0:00:01\r\u001b[K     |████████████████████████████████| 509 kB 4.3 MB/s \n",
            "\u001b[?25h"
          ]
        }
      ]
    },
    {
      "cell_type": "code",
      "execution_count": null,
      "metadata": {
        "id": "OGoKdv6-aRvg"
      },
      "outputs": [],
      "source": [
        "import os\n",
        "import glob\n",
        "import numpy as np\n",
        "import pandas as pd\n",
        "import matplotlib.pyplot as plt\n",
        "import torch\n",
        "from torch.utils.data import TensorDataset, DataLoader\n",
        "import timm"
      ]
    },
    {
      "cell_type": "markdown",
      "source": [
        "# データとモデルの読み込み"
      ],
      "metadata": {
        "id": "v4Cem3weT_UL"
      }
    },
    {
      "cell_type": "code",
      "source": [
        "test_images = np.load('/content/drive/MyDrive/Competition/ProbSpace/日本画/data/test_data.npz')['arr_0']\n",
        "test_images = test_images.transpose((0,3,1,2))\n",
        "test_dataset = torch.utils.data.TensorDataset(torch.from_numpy(test_images).float())\n",
        "test_loader = torch.utils.data.DataLoader(test_dataset, batch_size=64, num_workers=2, pin_memory=True)"
      ],
      "metadata": {
        "id": "RUmAhvfCaW40"
      },
      "execution_count": null,
      "outputs": []
    },
    {
      "cell_type": "code",
      "source": [
        "#model_name = 'resnet34'\n",
        "#model_name = 'efficientnet_b3'\n",
        "model_name = 'tf_efficientnet_b3_ns'\n",
        "num_classes = 4\n",
        "weights = glob.glob('/content/drive/MyDrive/Competition/ProbSpace/日本画/checkpoints/TF_EfficientNetB3_NS/fold1*0728.pth')\n",
        "#weights += glob.glob('/content/drive/MyDrive/Competition/ProbSpace/日本画/checkpoints/TF_EfficientNetB3_NS/fold2*0729.pth')\n",
        "#weights += glob.glob('/content/drive/MyDrive/Competition/ProbSpace/日本画/checkpoints/Best_checkpoints/fold0_best0?.pth')\n",
        "weights += glob.glob('/content/drive/MyDrive/Competition/ProbSpace/日本画/checkpoints/Best_update/fold0_best_update.pth')\n",
        "weights += glob.glob('/content/drive/MyDrive/Competition/ProbSpace/日本画/checkpoints/Best_checkpoints/fold2_best0?.pth')\n",
        "weights += glob.glob('/content/drive/MyDrive/Competition/ProbSpace/日本画/checkpoints/Best_update/fold3_best_update.pth')\n",
        "#weights += glob.glob('/content/drive/MyDrive/Competition/ProbSpace/日本画/checkpoints/Best_update/fold4_best_update.pth')\n",
        "weights += glob.glob('/content/drive/MyDrive/Competition/ProbSpace/日本画/checkpoints/Best_checkpoints/fold4_best0?.pth')\n",
        "#weights = glob.glob('/content/drive/MyDrive/Competition/ProbSpace/日本画/checkpoints/eff_b3_FocalLoss_weight_fold0*')\n",
        "device = torch.device(\"cuda:0\" if torch.cuda.is_available() else \"cpu\")"
      ],
      "metadata": {
        "id": "uOVUxOksbGrp"
      },
      "execution_count": null,
      "outputs": []
    },
    {
      "cell_type": "code",
      "source": [
        "weights"
      ],
      "metadata": {
        "colab": {
          "base_uri": "https://localhost:8080/"
        },
        "id": "sZzdyMfxAVV_",
        "outputId": "c936ebf8-3f0f-4f37-894d-e664e91a1e0a"
      },
      "execution_count": null,
      "outputs": [
        {
          "output_type": "execute_result",
          "data": {
            "text/plain": [
              "['/content/drive/MyDrive/Competition/ProbSpace/日本画/checkpoints/TF_EfficientNetB3_NS/fold1_best0728.pth',\n",
              " '/content/drive/MyDrive/Competition/ProbSpace/日本画/checkpoints/Best_update/fold0_best_update.pth',\n",
              " '/content/drive/MyDrive/Competition/ProbSpace/日本画/checkpoints/Best_checkpoints/fold2_best02.pth',\n",
              " '/content/drive/MyDrive/Competition/ProbSpace/日本画/checkpoints/Best_update/fold3_best_update.pth',\n",
              " '/content/drive/MyDrive/Competition/ProbSpace/日本画/checkpoints/Best_checkpoints/fold4_best03.pth']"
            ]
          },
          "metadata": {},
          "execution_count": 13
        }
      ]
    },
    {
      "cell_type": "code",
      "source": [
        "#model_name = 'resnet34'\n",
        "#model_name = 'efficientnet_b3'\n",
        "model_name = 'tf_efficientnet_b3_ns'\n",
        "num_classes = 4\n",
        "weights = glob.glob('/content/drive/MyDrive/Competition/ProbSpace/日本画/checkpoints/TF_EfficientNetB3_NS/fold1*0728.pth')\n",
        "weights += glob.glob('/content/drive/MyDrive/Competition/ProbSpace/日本画/checkpoints/TF_EfficientNetB3_NS/fold2*0729.pth')\n",
        "weights += glob.glob('/content/drive/MyDrive/Competition/ProbSpace/日本画/checkpoints/Best_update/fold0_best_update.pth')\n",
        "weights += glob.glob('/content/drive/MyDrive/Competition/ProbSpace/日本画/checkpoints/Best_update/fold3_best_update.pth')\n",
        "weights += glob.glob('/content/drive/MyDrive/Competition/ProbSpace/日本画/checkpoints/Best_update/fold4_best_update.pth')\n",
        "\n",
        "device = torch.device(\"cuda:0\" if torch.cuda.is_available() else \"cpu\")"
      ],
      "metadata": {
        "id": "hJiYfcNUo8Fw"
      },
      "execution_count": null,
      "outputs": []
    },
    {
      "cell_type": "markdown",
      "source": [
        "# 推論"
      ],
      "metadata": {
        "id": "Ne-pHPtWUICU"
      }
    },
    {
      "cell_type": "code",
      "source": [
        "model_name = 'efficientnetv2_rw_s'\n",
        "\n",
        "num_classes = 4\n",
        "weights = glob.glob('/content/drive/MyDrive/Competition/ProbSpace/日本画/checkpoints/effv2_true/fold_all_best03.pth')\n",
        "\n",
        "device = torch.device(\"cuda:0\" if torch.cuda.is_available() else \"cpu\")"
      ],
      "metadata": {
        "id": "MGC7TXl1quRl"
      },
      "execution_count": null,
      "outputs": []
    },
    {
      "cell_type": "code",
      "source": [
        "all_predicts = np.zeros((2000, 4))\n",
        "with torch.no_grad():\n",
        "  for w in weights:\n",
        "    model = timm.create_model(model_name, pretrained=False, num_classes=num_classes)\n",
        "    model.load_state_dict(torch.load(w))\n",
        "    mode = model.to(device)\n",
        "    model.eval()\n",
        "    predicts = []\n",
        "    for x in test_loader:\n",
        "      x = x[0].to(device)\n",
        "      outputs = model(x)\n",
        "      #preds = torch.max(outputs, dim=1)[1]\n",
        "      predicts.append(outputs.cpu().numpy())\n",
        "    all_predicts += np.concatenate(predicts)"
      ],
      "metadata": {
        "id": "Xglpt92R36cq"
      },
      "execution_count": null,
      "outputs": []
    },
    {
      "cell_type": "code",
      "source": [
        "print(all_predicts.shape)\n",
        "results = np.argmax(all_predicts, axis=1)\n",
        "results.shape"
      ],
      "metadata": {
        "id": "RXgDp7p3CH9b",
        "colab": {
          "base_uri": "https://localhost:8080/"
        },
        "outputId": "d2fd6cc9-bfdd-4675-9324-5e97993175eb"
      },
      "execution_count": null,
      "outputs": [
        {
          "output_type": "stream",
          "name": "stdout",
          "text": [
            "(2000, 4)\n"
          ]
        },
        {
          "output_type": "execute_result",
          "data": {
            "text/plain": [
              "(2000,)"
            ]
          },
          "metadata": {},
          "execution_count": 7
        }
      ]
    },
    {
      "cell_type": "code",
      "source": [
        "sub = pd.DataFrame(results, columns=['y'])\n",
        "sub.index.name = 'id'\n",
        "sub.index += 1"
      ],
      "metadata": {
        "id": "jKuMRW0tbe3P"
      },
      "execution_count": null,
      "outputs": []
    },
    {
      "cell_type": "code",
      "source": [
        "sub.to_csv('/content/drive/MyDrive/Competition/ProbSpace/日本画/submission/submission_takasan_effv2_fold_all.csv')"
      ],
      "metadata": {
        "id": "aK8KIaSN5Ds2"
      },
      "execution_count": null,
      "outputs": []
    }
  ]
}